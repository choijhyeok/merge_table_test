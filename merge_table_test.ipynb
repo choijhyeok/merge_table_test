{
 "cells": [
  {
   "cell_type": "markdown",
   "metadata": {},
   "source": [
    "# merge table"
   ]
  },
  {
   "cell_type": "markdown",
   "metadata": {},
   "source": [
    "&nbsp;"
   ]
  },
  {
   "cell_type": "markdown",
   "metadata": {},
   "source": [
    "### 필요한 패키지 load"
   ]
  },
  {
   "cell_type": "code",
   "execution_count": 11,
   "metadata": {},
   "outputs": [
    {
     "data": {
      "text/plain": [
       "True"
      ]
     },
     "execution_count": 11,
     "metadata": {},
     "output_type": "execute_result"
    }
   ],
   "source": [
    "import fitz  \n",
    "from IPython.display import Image, display\n",
    "import base64\n",
    "from dotenv import load_dotenv\n",
    "from pydantic import BaseModel, ValidationError\n",
    "from openai import AzureOpenAI\n",
    "import os\n",
    "import json\n",
    "\n",
    "load_dotenv()"
   ]
  },
  {
   "cell_type": "markdown",
   "metadata": {},
   "source": [
    "&nbsp;"
   ]
  },
  {
   "cell_type": "markdown",
   "metadata": {},
   "source": [
    "### pdf load"
   ]
  },
  {
   "cell_type": "code",
   "execution_count": 48,
   "metadata": {},
   "outputs": [],
   "source": [
    "doc = fitz.open(\"삼성생명약관.pdf\")\n",
    "page = doc.load_page(25)"
   ]
  },
  {
   "cell_type": "markdown",
   "metadata": {},
   "source": [
    "&nbsp;"
   ]
  },
  {
   "cell_type": "markdown",
   "metadata": {},
   "source": [
    "### markdown , base64 extract"
   ]
  },
  {
   "cell_type": "code",
   "execution_count": 50,
   "metadata": {},
   "outputs": [],
   "source": [
    "tables_found = page.find_tables()\n",
    "\n",
    "\n",
    "table_text = ''\n",
    "for tbl in tables_found:\n",
    "    \n",
    "    # table markdown 추출 pymupdf 자체 기능\n",
    "    md = tbl.to_markdown()\n",
    "    \n",
    "    extracted_rows = tbl.extract()\n",
    "    for row in extracted_rows:\n",
    "        cleaned_row = [str(cell) if cell is not None else \"\" for cell in row]\n",
    "        table_text += \"\\t\".join(cleaned_row) + \"\\n\"\n",
    "\n",
    "    # pymupdf 이미지 영역 -> base64 변환\n",
    "    rect = fitz.Rect(*tbl.bbox)\n",
    "    pix = page.get_pixmap(clip=rect, alpha=False)\n",
    "    png_bytes = pix.tobytes(\"png\")\n",
    "    b64 = base64.b64encode(png_bytes).decode(\"utf-8\")\n",
    "\n",
    "doc.close()"
   ]
  },
  {
   "cell_type": "code",
   "execution_count": 51,
   "metadata": {},
   "outputs": [
    {
     "name": "stdout",
     "output_type": "stream",
     "text": [
      "구분\t자동차상해 특약 가입 시\n",
      "보험가입금액 : 사망 1억 원, 부상\n",
      "3천만 원, 휴유장애 1억\t\t자기신체사고 가입 시\n",
      "보험가입금액 :\n",
      "사망 1억 원, 부상 3천만 원,\n",
      "후유장애 1억\t\n",
      "내용\t3개월간 치료비\t500만 원\t9급 한도인\n",
      "200만 원 이내\n",
      "실제 소요된\n",
      "치료비 지급\t200만 원\n",
      "\t3개월간\n",
      "휴업손해비용\t280만 원\t\t\n",
      "\t위자료\t25만 원\t\t\n",
      "보험금\t총 805만 원 지급\t\t총 200만 원 지급\t\n",
      "보험금의 차이\t605만 원\t\t\t\n",
      "\n"
     ]
    }
   ],
   "source": [
    "print(table_text)"
   ]
  },
  {
   "cell_type": "code",
   "execution_count": 52,
   "metadata": {},
   "outputs": [
    {
     "name": "stdout",
     "output_type": "stream",
     "text": [
      "|구분|자동차상해 특약 가입 시<br>보험가입금액 : 사망 1억 원, 부상<br>3천만 원, 휴유장애 1억|Col3|자기신체사고 가입 시<br>보험가입금액 :<br>사망 1억 원, 부상 3천만 원,<br>후유장애 1억|Col5|\n",
      "|---|---|---|---|---|\n",
      "|내용|3개월간 치료비|500만 원|9급 한도인<br>200만 원 이내<br>실제 소요된<br>치료비 지급|200만 원|\n",
      "|내용|3개월간<br>휴업손해비용|280만 원|280만 원|280만 원|\n",
      "|내용|위자료|25만 원|25만 원|25만 원|\n",
      "|보험금|총 805만 원 지급|총 805만 원 지급|총 200만 원 지급|총 200만 원 지급|\n",
      "|보험금의 차이|605만 원|605만 원|605만 원|605만 원|\n",
      "\n",
      "\n"
     ]
    }
   ],
   "source": [
    "print(md)"
   ]
  },
  {
   "cell_type": "code",
   "execution_count": 53,
   "metadata": {},
   "outputs": [
    {
     "name": "stdout",
     "output_type": "stream",
     "text": [
      "base64 변환 이미지 :  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\n"
     ]
    },
    {
     "data": {
      "image/png": "[encoded data removed]",
      "text/plain": [
       "<IPython.core.display.Image object>"
      ]
     },
     "metadata": {},
     "output_type": "display_data"
    }
   ],
   "source": [
    "print(\"base64 변환 이미지 : \",b64)\n",
    "display(Image(data=base64.b64decode(b64)))"
   ]
  },
  {
   "cell_type": "markdown",
   "metadata": {},
   "source": [
    "&nbsp;"
   ]
  },
  {
   "cell_type": "markdown",
   "metadata": {},
   "source": [
    "&nbsp;"
   ]
  },
  {
   "cell_type": "markdown",
   "metadata": {},
   "source": [
    "### two-stage 구조화에서 병합된 table 까지 고려해서 구조화 한다면"
   ]
  },
  {
   "cell_type": "code",
   "execution_count": 69,
   "metadata": {},
   "outputs": [],
   "source": [
    "class MergeTableToMarkdown(BaseModel):\n",
    "    markdown: str\n",
    "\n",
    "\n",
    "\n",
    "def get_merge_table_to_markdown(image_base64 : str, table_text: str) -> str:\n",
    "    \n",
    "    client = AzureOpenAI(\n",
    "        azure_endpoint=os.getenv('AZURE_OPENAI_ENDPOINT'),\n",
    "        api_key=os.getenv('AZURE_OPENAI_API_KEY'),\n",
    "        api_version=os.getenv('AZURE_OPENAI_API_VERSION'),\n",
    "    )\n",
    "    \n",
    "    # prompt는 GPT ^.^\n",
    "    system_prompt = \"\"\"\n",
    "    당신은 보험 문서 표를 “정확한 격자(grid)”로 복원하는 전문가입니다.\n",
    "    입력: 표 이미지 1장 (base64). 추가 텍스트나 OCR 제공 없음.\n",
    "    목표: 이미지의 “시각적 구조(열/행/병합)”를 기준으로 격자를 재구성하고, 이미지에서 보이는 텍스트를 정확히 추출하여\n",
    "    병합(rowspan/colspan)을 완전히 해제한 **완전한 Markdown 표**를 생성합니다.\n",
    "\n",
    "    [핵심 원칙]\n",
    "    1) 구조 우선: 열 수/열 경계/머리글/병합 위치는 전적으로 “이미지”를 기준으로 판정합니다.\n",
    "    2) 내용 정확도: 숫자·단위·기호·띄어쓰기를 한 글자도 바꾸지 말고, 보이는 그대로 옮깁니다. 추측/요약/재표현 금지.\n",
    "    3) 병합 해제: 원래 병합된 셀의 값은 해당 범위 내 **모든 셀에 반복 기입**하여 완전한 격자로 만듭니다.\n",
    "    4) 열/행 순서 보존: 시각적 좌→우, 상→하 순서를 존중하며 순서를 임의 변경하지 않습니다.\n",
    "\n",
    "    [격자 복원 절차(내부 사고만 하고, 출력은 표만)]\n",
    "    1) 이미지에서 **열 경계**를 추정해 열 수를 확정합니다(좌→우, 열 너비·테두리·배경색·정렬 활용).\n",
    "    2) **헤더 행**을 식별하고 열 이름을 설정합니다. 상단 병합 헤더는 반드시 열 헤더로 풉니다.\n",
    "    3) 본문에서 **가로/세로 병합**을 식별하고, 병합 범위의 모든 셀을 동일 값으로 채웁니다.\n",
    "    4) 좌측 첫 열이 섹션/구분 역할을 할 경우, 그 값은 해당 블록의 모든 하위 행에 **반복 기입**합니다.\n",
    "    5) 모든 행이 동일한 열 개수와 올바른 정렬을 갖도록 보정합니다.\n",
    "\n",
    "    [좌우 비교 표(매우 중요)]\n",
    "    - 상단이나 좌우에 병합된 큰 범주의 셀(예: “자동차상해 특약”, “자기신체사고”)은\n",
    "    **별도의 열 헤더로 분리하여 좌우 비교 구조를 유지**해야 합니다.\n",
    "    - 가능한 기본 구조(예시):  \n",
    "    | 구분 | [좌측 헤더] 내용 | [좌측 헤더] 보험금 | [우측 헤더] 내용 | [우측 헤더] 보험금 |\n",
    "    - 빈 칸처럼 보이는 셀도 병합 해제를 위해 **반드시 값으로 채움**(해당 없음이면 “(해당 없음)” 또는 빈 문자열).\n",
    "\n",
    "    [충돌/애매함 처리]\n",
    "    - 문자 해독이 애매하면 가장 유력한 판독을 사용하되, 임의의 숫자 변경·추가 금지.\n",
    "    - 합계/차이 등 합성 셀은 원래 위치의 열에만 기입합니다.\n",
    "\n",
    "    [검증 체크리스트]\n",
    "    - 모든 행이 동일한 열 개수인가?\n",
    "    - 병합된 값이 누락 없이 반복 채워졌는가?\n",
    "    - 숫자/단위/기호가 이미지와 정확히 일치하는가?\n",
    "    - 좌우 비교 구조가 올바른 열로 분리되어 있는가?\n",
    "\n",
    "    [출력 형식]\n",
    "    - **오직 하나의 Markdown 표만 출력**합니다. 코드블록, 설명, 주석, 추가 문장은 금지.\n",
    "    \"\"\"\n",
    "    try:\n",
    "        response = client.beta.chat.completions.parse(\n",
    "            model=os.getenv(\"AZURE_OPENAI_DEPLOYMENT_NAME\"),\n",
    "            messages=[\n",
    "                {\"role\": \"system\", \"content\": system_prompt},\n",
    "                {\"role\": \"user\", \"content\": [\n",
    "                    {\"type\": \"image_url\", \"image_url\": {\"url\": f\"data:image/png;base64,{image_base64}\"}},\n",
    "                    # {\"type\": \"text\", \"text\": \"표에서 OCR/추출된 텍스트:\\n\" + table_text}, \n",
    "                ]},\n",
    "            ],\n",
    "            response_format=MergeTableToMarkdown,\n",
    "            temperature=0,        \n",
    "            max_tokens=2048,\n",
    "            top_p=1,\n",
    "        )\n",
    "    \n",
    "        parsed_data = response.choices[0].message.parsed\n",
    "        \n",
    "        return parsed_data.markdown\n",
    "\n",
    "    except (ValidationError, json.JSONDecodeError) as e:\n",
    "        return f\"Error parsing model response: {e}\", \"\", None\n",
    "\n"
   ]
  },
  {
   "cell_type": "code",
   "execution_count": 70,
   "metadata": {},
   "outputs": [],
   "source": [
    "gpt_to_markdown = get_merge_table_to_markdown(b64,table_text)"
   ]
  },
  {
   "cell_type": "code",
   "execution_count": 71,
   "metadata": {},
   "outputs": [
    {
     "name": "stdout",
     "output_type": "stream",
     "text": [
      "| 구분 | 내용 | 보험금 | 구분 | 내용 | 보험금 |\n",
      "|------|------|--------|------|------|--------|\n",
      "| 자동차상해 특약 가입 시 보험가입금액: 사망 1억 원, 부상 3천만 원, 후유장애 1억 | 3개월간 치료비 | 500만 원 | 자기신체사고 가입 시 보험가입금액: 사망 1억 원, 부상 3천만 원, 후유장애 1억 | 9급 한도인 200만 원 이내 실제 소요된 치료비 지급 | 200만 원 |\n",
      "| 자동차상해 특약 가입 시 보험가입금액: 사망 1억 원, 부상 3천만 원, 후유장애 1억 | 3개월간 휴업손해비용 | 280만 원 | 자기신체사고 가입 시 보험가입금액: 사망 1억 원, 부상 3천만 원, 후유장애 1억 | (해당 없음) | (해당 없음) |\n",
      "| 자동차상해 특약 가입 시 보험가입금액: 사망 1억 원, 부상 3천만 원, 후유장애 1억 | 위자료 | 25만 원 | 자기신체사고 가입 시 보험가입금액: 사망 1억 원, 부상 3천만 원, 후유장애 1억 | (해당 없음) | (해당 없음) |\n",
      "| 자동차상해 특약 가입 시 보험가입금액: 사망 1억 원, 부상 3천만 원, 후유장애 1억 | 총 | 총 805만 원 지급 | 자기신체사고 가입 시 보험가입금액: 사망 1억 원, 부상 3천만 원, 후유장애 1억 | 총 | 총 200만 원 지급 |\n",
      "| 보험금의 차이 | | 605만 원 | 보험금의 차이 | | 605만 원 |\n"
     ]
    }
   ],
   "source": [
    "print(gpt_to_markdown)"
   ]
  }
 ],
 "metadata": {
  "kernelspec": {
   "display_name": ".venv",
   "language": "python",
   "name": "python3"
  },
  "language_info": {
   "codemirror_mode": {
    "name": "ipython",
    "version": 3
   },
   "file_extension": ".py",
   "mimetype": "text/x-python",
   "name": "python",
   "nbconvert_exporter": "python",
   "pygments_lexer": "ipython3",
   "version": "3.11.13"
  }
 },
 "nbformat": 4,
 "nbformat_minor": 2
}
